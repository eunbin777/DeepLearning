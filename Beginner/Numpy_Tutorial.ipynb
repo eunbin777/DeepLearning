{
  "nbformat": 4,
  "nbformat_minor": 0,
  "metadata": {
    "colab": {
      "provenance": [],
      "toc_visible": true
    },
    "kernelspec": {
      "name": "python3",
      "display_name": "Python 3"
    },
    "language_info": {
      "name": "python"
    }
  },
  "cells": [
    {
      "cell_type": "markdown",
      "metadata": {
        "id": "xrZqbnxIGa1R"
      },
      "source": [
        "# Numpy\n",
        "\n",
        "Numpy는 Numerical Python의 줄임말로, 파이썬에서 산술 계산을 위한 가장 중요한 패키지 중 하나입니다. 과학 계산을 위한 대부분의 패키지는 Numpy의 배열 객체를 데이터 교환을 위한 공통 언어처럼 사용합니다."
      ]
    },
    {
      "cell_type": "markdown",
      "metadata": {
        "id": "K2mZO-JUG84d"
      },
      "source": [
        "### Numpy 라이브러리 import"
      ]
    },
    {
      "cell_type": "code",
      "metadata": {
        "id": "08IdEOt7GG_m"
      },
      "source": [
        "import numpy as np"
      ],
      "execution_count": 1,
      "outputs": []
    },
    {
      "cell_type": "markdown",
      "metadata": {
        "id": "s6CkuLG1HMrB"
      },
      "source": [
        "### Numpy ndarray\n",
        "Numpy의 핵심 기능 중 하나는 ndarray라고 하는 N차원의 배열 객체인데 파이썬에서 할 수 있는 대규모 데이터 집합을 담을 수 있는 빠르고 유연한 자료구조입니다."
      ]
    },
    {
      "cell_type": "code",
      "metadata": {
        "id": "TrK76D5zHM6B",
        "colab": {
          "base_uri": "https://localhost:8080/"
        },
        "outputId": "40ffef28-c79e-47ab-8251-71eae8359bc8"
      },
      "source": [
        "a = np.array([1, 2, 3])\n",
        "print(a, type(a))"
      ],
      "execution_count": 2,
      "outputs": [
        {
          "output_type": "stream",
          "name": "stdout",
          "text": [
            "[1 2 3] <class 'numpy.ndarray'>\n"
          ]
        }
      ]
    },
    {
      "cell_type": "markdown",
      "metadata": {
        "id": "7afzYZAUHFt7"
      },
      "source": [
        "### List와 비교"
      ]
    },
    {
      "cell_type": "code",
      "metadata": {
        "id": "KHcKRlrsHAzx",
        "colab": {
          "base_uri": "https://localhost:8080/"
        },
        "outputId": "87c9cbde-ad87-4597-8350-32e1bdbd2327"
      },
      "source": [
        "L = [1, 2, 3]\n",
        "A = np.array([1, 2, 3])\n",
        "print(L)\n",
        "print(A)"
      ],
      "execution_count": 3,
      "outputs": [
        {
          "output_type": "stream",
          "name": "stdout",
          "text": [
            "[1, 2, 3]\n",
            "[1 2 3]\n"
          ]
        }
      ]
    },
    {
      "cell_type": "code",
      "metadata": {
        "id": "XCul7Sme489Z",
        "colab": {
          "base_uri": "https://localhost:8080/"
        },
        "outputId": "62e76a9c-46bf-43cb-a7f1-2ea0dd121a64"
      },
      "source": [
        "A"
      ],
      "execution_count": 4,
      "outputs": [
        {
          "output_type": "execute_result",
          "data": {
            "text/plain": [
              "array([1, 2, 3])"
            ]
          },
          "metadata": {},
          "execution_count": 4
        }
      ]
    },
    {
      "cell_type": "code",
      "metadata": {
        "id": "uWAr1LeQJXFf",
        "colab": {
          "base_uri": "https://localhost:8080/"
        },
        "outputId": "baccd2cc-d313-437e-ec7d-70005eee221c"
      },
      "source": [
        "for item in L:\n",
        "  print(item)"
      ],
      "execution_count": 5,
      "outputs": [
        {
          "output_type": "stream",
          "name": "stdout",
          "text": [
            "1\n",
            "2\n",
            "3\n"
          ]
        }
      ]
    },
    {
      "cell_type": "code",
      "metadata": {
        "id": "bvQHbphRJerJ",
        "colab": {
          "base_uri": "https://localhost:8080/"
        },
        "outputId": "1b95cf97-9b62-47b7-9d8c-15ea7739c0aa"
      },
      "source": [
        "for item in A:\n",
        "  print(item)"
      ],
      "execution_count": 6,
      "outputs": [
        {
          "output_type": "stream",
          "name": "stdout",
          "text": [
            "1\n",
            "2\n",
            "3\n"
          ]
        }
      ]
    },
    {
      "cell_type": "code",
      "metadata": {
        "id": "LtmE2YTLJgRD",
        "colab": {
          "base_uri": "https://localhost:8080/"
        },
        "outputId": "1d3f7a24-0bdc-4794-a4e0-3bb91c04c264"
      },
      "source": [
        "L.append(4)\n",
        "print(L)"
      ],
      "execution_count": 7,
      "outputs": [
        {
          "output_type": "stream",
          "name": "stdout",
          "text": [
            "[1, 2, 3, 4]\n"
          ]
        }
      ]
    },
    {
      "cell_type": "code",
      "metadata": {
        "id": "PbPqKqf3JjKH",
        "colab": {
          "base_uri": "https://localhost:8080/",
          "height": 194
        },
        "outputId": "995d295c-dfb1-4e25-9c83-8a4557dd6893"
      },
      "source": [
        "A = A.append(4)\n",
        "print(A)"
      ],
      "execution_count": 8,
      "outputs": [
        {
          "output_type": "error",
          "ename": "AttributeError",
          "evalue": "ignored",
          "traceback": [
            "\u001b[0;31m---------------------------------------------------------------------------\u001b[0m",
            "\u001b[0;31mAttributeError\u001b[0m                            Traceback (most recent call last)",
            "\u001b[0;32m<ipython-input-8-c8c98dce37d6>\u001b[0m in \u001b[0;36m<module>\u001b[0;34m\u001b[0m\n\u001b[0;32m----> 1\u001b[0;31m \u001b[0mA\u001b[0m \u001b[0;34m=\u001b[0m \u001b[0mA\u001b[0m\u001b[0;34m.\u001b[0m\u001b[0mappend\u001b[0m\u001b[0;34m(\u001b[0m\u001b[0;36m4\u001b[0m\u001b[0;34m)\u001b[0m\u001b[0;34m\u001b[0m\u001b[0;34m\u001b[0m\u001b[0m\n\u001b[0m\u001b[1;32m      2\u001b[0m \u001b[0mprint\u001b[0m\u001b[0;34m(\u001b[0m\u001b[0mA\u001b[0m\u001b[0;34m)\u001b[0m\u001b[0;34m\u001b[0m\u001b[0;34m\u001b[0m\u001b[0m\n",
            "\u001b[0;31mAttributeError\u001b[0m: 'numpy.ndarray' object has no attribute 'append'"
          ]
        }
      ]
    },
    {
      "cell_type": "code",
      "metadata": {
        "id": "6AmFS9zFJk8M",
        "colab": {
          "base_uri": "https://localhost:8080/"
        },
        "outputId": "9b83d08f-aa1d-4340-b52e-00e5d5cfe041"
      },
      "source": [
        "A = np.append(A, 4)\n",
        "print(A)"
      ],
      "execution_count": 9,
      "outputs": [
        {
          "output_type": "stream",
          "name": "stdout",
          "text": [
            "[1 2 3 4]\n"
          ]
        }
      ]
    },
    {
      "cell_type": "code",
      "metadata": {
        "id": "EFKbWtELJoHL",
        "colab": {
          "base_uri": "https://localhost:8080/"
        },
        "outputId": "7656e8fe-d2a6-460d-b6ab-f2a11ec14ea8"
      },
      "source": [
        "L = L + [5]\n",
        "print(L)"
      ],
      "execution_count": 10,
      "outputs": [
        {
          "output_type": "stream",
          "name": "stdout",
          "text": [
            "[1, 2, 3, 4, 5]\n"
          ]
        }
      ]
    },
    {
      "cell_type": "code",
      "metadata": {
        "id": "aNq_XYolJxTB",
        "colab": {
          "base_uri": "https://localhost:8080/"
        },
        "outputId": "89249cc6-95e6-48e1-a472-18856f392f39"
      },
      "source": [
        "A = A + np.array([5])\n",
        "print(A)"
      ],
      "execution_count": 11,
      "outputs": [
        {
          "output_type": "stream",
          "name": "stdout",
          "text": [
            "[6 7 8 9]\n"
          ]
        }
      ]
    },
    {
      "cell_type": "code",
      "metadata": {
        "id": "998MZlhXJ2aH",
        "colab": {
          "base_uri": "https://localhost:8080/"
        },
        "outputId": "b2ccfb0b-b722-4021-97e0-e60e9f57d723"
      },
      "source": [
        "# list의 모든 원소를 2배로 만들기\n",
        "L = [1, 2, 3]\n",
        "L2 = []\n",
        "for item in L:\n",
        "  L2.append(item*2)\n",
        "print(L2)"
      ],
      "execution_count": 12,
      "outputs": [
        {
          "output_type": "stream",
          "name": "stdout",
          "text": [
            "[2, 4, 6]\n"
          ]
        }
      ]
    },
    {
      "cell_type": "code",
      "metadata": {
        "id": "yEDkQDGILdMh",
        "colab": {
          "base_uri": "https://localhost:8080/"
        },
        "outputId": "378c92af-2c92-424a-bafb-ef7e6174592d"
      },
      "source": [
        "# ndarray의 모든 원소 2배로 만들기\n",
        "A = np.array(L)\n",
        "A2 = A*2\n",
        "print(A2)"
      ],
      "execution_count": 13,
      "outputs": [
        {
          "output_type": "stream",
          "name": "stdout",
          "text": [
            "[2 4 6]\n"
          ]
        }
      ]
    },
    {
      "cell_type": "code",
      "metadata": {
        "id": "bFmOP9giLjAj",
        "colab": {
          "base_uri": "https://localhost:8080/"
        },
        "outputId": "729e9c83-349c-4f53-eee0-77bbedd64935"
      },
      "source": [
        "L * 2"
      ],
      "execution_count": 14,
      "outputs": [
        {
          "output_type": "execute_result",
          "data": {
            "text/plain": [
              "[1, 2, 3, 1, 2, 3]"
            ]
          },
          "metadata": {},
          "execution_count": 14
        }
      ]
    },
    {
      "cell_type": "markdown",
      "metadata": {
        "id": "4ZrXOTkQj0AJ"
      },
      "source": [
        "### 배열\n",
        "numpy 배열은 모두 같은 유형의 값이며 음수가 아닌 정수의 튜플로 인덱싱됩니다. 차원의 수는 배열의 랭크입니다. 배열의 shape은 각 차원별 배열 크기의 튜플입니다.\n",
        "중첩 된 파이썬 리스트로부터 numpy 배열을 초기화 할 수 있고 대괄호를 사용하여 요소에 접근 할 수 있습니다. "
      ]
    },
    {
      "cell_type": "markdown",
      "metadata": {
        "id": "ZkTYBiPdLRWk"
      },
      "source": [
        "#### 배열 생성하기"
      ]
    },
    {
      "cell_type": "code",
      "metadata": {
        "id": "bFAPp13PMIKJ",
        "colab": {
          "base_uri": "https://localhost:8080/"
        },
        "outputId": "7d3c0638-345d-456b-d588-8a1676db8d87"
      },
      "source": [
        "a = np.array([1, 2, 3])\n",
        "print(a)\n",
        "print(type(a), a.ndim, a.shape, a.dtype)"
      ],
      "execution_count": 15,
      "outputs": [
        {
          "output_type": "stream",
          "name": "stdout",
          "text": [
            "[1 2 3]\n",
            "<class 'numpy.ndarray'> 1 (3,) int64\n"
          ]
        }
      ]
    },
    {
      "cell_type": "code",
      "metadata": {
        "id": "6omlJVa2KxQa",
        "colab": {
          "base_uri": "https://localhost:8080/"
        },
        "outputId": "10462f1e-c62c-433e-958a-e939e587f635"
      },
      "source": [
        "b = np.asarray(a)\n",
        "print(b)"
      ],
      "execution_count": 16,
      "outputs": [
        {
          "output_type": "stream",
          "name": "stdout",
          "text": [
            "[1 2 3]\n"
          ]
        }
      ]
    },
    {
      "cell_type": "code",
      "metadata": {
        "id": "6180mdASK9xB",
        "colab": {
          "base_uri": "https://localhost:8080/"
        },
        "outputId": "bf1edfc5-9248-4f25-fda9-c4bf72c33259"
      },
      "source": [
        "b[0] = 9\n",
        "print(a)\n",
        "print(b)"
      ],
      "execution_count": 17,
      "outputs": [
        {
          "output_type": "stream",
          "name": "stdout",
          "text": [
            "[9 2 3]\n",
            "[9 2 3]\n"
          ]
        }
      ]
    },
    {
      "cell_type": "code",
      "metadata": {
        "id": "VaoHYHgZK-eZ",
        "colab": {
          "base_uri": "https://localhost:8080/"
        },
        "outputId": "3aa0d7d9-987c-4f3e-d6f8-2287fabaadfa"
      },
      "source": [
        "c = np.array(a)\n",
        "print(c)"
      ],
      "execution_count": 18,
      "outputs": [
        {
          "output_type": "stream",
          "name": "stdout",
          "text": [
            "[9 2 3]\n"
          ]
        }
      ]
    },
    {
      "cell_type": "code",
      "metadata": {
        "id": "vaVXhH-5Ln2Q",
        "colab": {
          "base_uri": "https://localhost:8080/"
        },
        "outputId": "619fc53d-f6e3-4f30-c43b-68f569085e47"
      },
      "source": [
        "c[0] = 1\n",
        "print(a)\n",
        "print(b)\n",
        "print(c)"
      ],
      "execution_count": 19,
      "outputs": [
        {
          "output_type": "stream",
          "name": "stdout",
          "text": [
            "[9 2 3]\n",
            "[9 2 3]\n",
            "[1 2 3]\n"
          ]
        }
      ]
    },
    {
      "cell_type": "code",
      "metadata": {
        "id": "e93HPDP2Lp-w",
        "colab": {
          "base_uri": "https://localhost:8080/"
        },
        "outputId": "e019e9be-db67-49e9-a658-957d8c8cdff0"
      },
      "source": [
        "a = np.zeros((3,4))\n",
        "print(a)"
      ],
      "execution_count": 20,
      "outputs": [
        {
          "output_type": "stream",
          "name": "stdout",
          "text": [
            "[[0. 0. 0. 0.]\n",
            " [0. 0. 0. 0.]\n",
            " [0. 0. 0. 0.]]\n"
          ]
        }
      ]
    },
    {
      "cell_type": "code",
      "metadata": {
        "id": "DPJTPpCpNxFP",
        "colab": {
          "base_uri": "https://localhost:8080/"
        },
        "outputId": "690ffea3-4452-42c6-a19c-6391cf2ae7ca"
      },
      "source": [
        "b = np.ones((5,2))\n",
        "print(b)"
      ],
      "execution_count": 21,
      "outputs": [
        {
          "output_type": "stream",
          "name": "stdout",
          "text": [
            "[[1. 1.]\n",
            " [1. 1.]\n",
            " [1. 1.]\n",
            " [1. 1.]\n",
            " [1. 1.]]\n"
          ]
        }
      ]
    },
    {
      "cell_type": "code",
      "metadata": {
        "id": "Va3vUmrkODOG",
        "colab": {
          "base_uri": "https://localhost:8080/"
        },
        "outputId": "efa08195-16ff-4e59-c215-1ea9d35c3ee6"
      },
      "source": [
        "c = np.full((2,3), 4)\n",
        "print(c)"
      ],
      "execution_count": 22,
      "outputs": [
        {
          "output_type": "stream",
          "name": "stdout",
          "text": [
            "[[4 4 4]\n",
            " [4 4 4]]\n"
          ]
        }
      ]
    },
    {
      "cell_type": "code",
      "metadata": {
        "id": "_JDgvYhmOHa2",
        "colab": {
          "base_uri": "https://localhost:8080/"
        },
        "outputId": "d15e7ca3-0b83-4881-a834-d3b66e2e3cf6"
      },
      "source": [
        "d = np.empty((3,3))\n",
        "print(d)"
      ],
      "execution_count": 23,
      "outputs": [
        {
          "output_type": "stream",
          "name": "stdout",
          "text": [
            "[[0.00000000e+000 1.77863633e-322 0.00000000e+000]\n",
            " [0.00000000e+000 0.00000000e+000 7.12773286e-067]\n",
            " [3.21443587e-057 5.33262783e-091 3.43834124e+179]]\n"
          ]
        }
      ]
    },
    {
      "cell_type": "code",
      "metadata": {
        "id": "TlZcwMUPOWQe",
        "colab": {
          "base_uri": "https://localhost:8080/"
        },
        "outputId": "978fd388-f0cd-424c-ce54-887e6e312319"
      },
      "source": [
        "e = np.zeros_like(a)\n",
        "f = np.ones_like(a)\n",
        "g = np.full_like(a, 2)\n",
        "h = np.empty_like(a)\n",
        "print(e)\n",
        "print(f)\n",
        "print(g)\n",
        "print(h)"
      ],
      "execution_count": 24,
      "outputs": [
        {
          "output_type": "stream",
          "name": "stdout",
          "text": [
            "[[0. 0. 0. 0.]\n",
            " [0. 0. 0. 0.]\n",
            " [0. 0. 0. 0.]]\n",
            "[[1. 1. 1. 1.]\n",
            " [1. 1. 1. 1.]\n",
            " [1. 1. 1. 1.]]\n",
            "[[2. 2. 2. 2.]\n",
            " [2. 2. 2. 2.]\n",
            " [2. 2. 2. 2.]]\n",
            "[[1.11840494e-316 0.00000000e+000 0.00000000e+000 0.00000000e+000]\n",
            " [0.00000000e+000 0.00000000e+000 0.00000000e+000 0.00000000e+000]\n",
            " [0.00000000e+000 0.00000000e+000 0.00000000e+000 0.00000000e+000]]\n"
          ]
        }
      ]
    },
    {
      "cell_type": "code",
      "metadata": {
        "id": "jyELiZmyOjt-",
        "colab": {
          "base_uri": "https://localhost:8080/"
        },
        "outputId": "2d975369-5e00-41e1-dc93-0269badb9454"
      },
      "source": [
        "i = np.eye(3)\n",
        "j = np.identity(3)\n",
        "print(i)\n",
        "print(j)"
      ],
      "execution_count": 25,
      "outputs": [
        {
          "output_type": "stream",
          "name": "stdout",
          "text": [
            "[[1. 0. 0.]\n",
            " [0. 1. 0.]\n",
            " [0. 0. 1.]]\n",
            "[[1. 0. 0.]\n",
            " [0. 1. 0.]\n",
            " [0. 0. 1.]]\n"
          ]
        }
      ]
    },
    {
      "cell_type": "code",
      "metadata": {
        "id": "_xJn7a9EaFyK",
        "colab": {
          "base_uri": "https://localhost:8080/"
        },
        "outputId": "462a65e3-99ef-42e4-c785-ff9425373efa"
      },
      "source": [
        "k = np.arange(10)\n",
        "print(k)"
      ],
      "execution_count": 26,
      "outputs": [
        {
          "output_type": "stream",
          "name": "stdout",
          "text": [
            "[0 1 2 3 4 5 6 7 8 9]\n"
          ]
        }
      ]
    },
    {
      "cell_type": "code",
      "metadata": {
        "id": "1f3AksVDQhZ_",
        "colab": {
          "base_uri": "https://localhost:8080/"
        },
        "outputId": "e9baf2c1-7708-4125-8f01-9a8420a48312"
      },
      "source": [
        "# uniform distribution\n",
        "l = np.random.rand(2,2)\n",
        "print(l)"
      ],
      "execution_count": 27,
      "outputs": [
        {
          "output_type": "stream",
          "name": "stdout",
          "text": [
            "[[0.47057577 0.92575882]\n",
            " [0.43181432 0.68387511]]\n"
          ]
        }
      ]
    },
    {
      "cell_type": "code",
      "metadata": {
        "id": "pk2IMzjQQ2bY",
        "colab": {
          "base_uri": "https://localhost:8080/"
        },
        "outputId": "a1bc44ed-e38c-4017-ce09-9cc328c84c38"
      },
      "source": [
        "# normal distribution\n",
        "m = np.random.randn(2,2)\n",
        "print(m)"
      ],
      "execution_count": 28,
      "outputs": [
        {
          "output_type": "stream",
          "name": "stdout",
          "text": [
            "[[ 0.9363834   0.45571485]\n",
            " [ 0.62363607 -1.14514204]]\n"
          ]
        }
      ]
    },
    {
      "cell_type": "markdown",
      "metadata": {
        "id": "5yEqTzrWPr3p"
      },
      "source": [
        "#### 배열의 dtype"
      ]
    },
    {
      "cell_type": "code",
      "metadata": {
        "id": "E85y5Rw0O9h-",
        "colab": {
          "base_uri": "https://localhost:8080/"
        },
        "outputId": "8abfbcfd-5230-4ff7-bbd3-4a9d8eaf4b3e"
      },
      "source": [
        " a = np.array([1, 2, 3])\n",
        " b = np.array([1, 2, 3], dtype=np.float64)\n",
        " c = np.array([1, 2, 3], dtype=np.int32)\n",
        "\n",
        " print(a.dtype, b.dtype, c.dtype)"
      ],
      "execution_count": 29,
      "outputs": [
        {
          "output_type": "stream",
          "name": "stdout",
          "text": [
            "int64 float64 int32\n"
          ]
        }
      ]
    },
    {
      "cell_type": "code",
      "metadata": {
        "id": "TAp7Un4VXIxf",
        "colab": {
          "base_uri": "https://localhost:8080/"
        },
        "outputId": "bcc59441-97a4-42a0-d061-847750aee686"
      },
      "source": [
        "d = np.array([1, 2, 3], dtype='i1')\n",
        "e = np.array([1, 2, 3], dtype='i2')\n",
        "f = np.array([1, 2, 3], dtype='i4')\n",
        "g = np.array([1, 2, 3], dtype='i8')\n",
        "\n",
        "print(d.dtype, e.dtype, f.dtype, g.dtype)"
      ],
      "execution_count": 30,
      "outputs": [
        {
          "output_type": "stream",
          "name": "stdout",
          "text": [
            "int8 int16 int32 int64\n"
          ]
        }
      ]
    },
    {
      "cell_type": "code",
      "metadata": {
        "id": "1xRPAfA_XRWh",
        "colab": {
          "base_uri": "https://localhost:8080/"
        },
        "outputId": "61ec9cd5-fe12-45d3-8223-901afa34c576"
      },
      "source": [
        "d = np.array([1, 2, 3], dtype='u1')\n",
        "e = np.array([1, 2, 3], dtype='u2')\n",
        "f = np.array([1, 2, 3], dtype='u4')\n",
        "g = np.array([1, 2, 3], dtype='u8')\n",
        "\n",
        "print(d.dtype, e.dtype, f.dtype, g.dtype)"
      ],
      "execution_count": 31,
      "outputs": [
        {
          "output_type": "stream",
          "name": "stdout",
          "text": [
            "uint8 uint16 uint32 uint64\n"
          ]
        }
      ]
    },
    {
      "cell_type": "code",
      "metadata": {
        "id": "nCGXv8fcXtJQ",
        "colab": {
          "base_uri": "https://localhost:8080/"
        },
        "outputId": "a767b2aa-e045-4972-f50e-c29de8015bb7"
      },
      "source": [
        "h = np.array([1, 2, 3], dtype='f2')\n",
        "i = np.array([1, 2, 3], dtype='f4')\n",
        "j = np.array([1, 2, 3], dtype='f8')\n",
        "k = np.array([1, 2, 3], dtype='f16')\n",
        "\n",
        "print(h.dtype, i.dtype, j.dtype, k.dtype)"
      ],
      "execution_count": 32,
      "outputs": [
        {
          "output_type": "stream",
          "name": "stdout",
          "text": [
            "float16 float32 float64 float128\n"
          ]
        }
      ]
    },
    {
      "cell_type": "code",
      "metadata": {
        "id": "6DCfYA1jX754",
        "colab": {
          "base_uri": "https://localhost:8080/"
        },
        "outputId": "b93d4eb3-427c-4fe7-dce3-27611c65f436"
      },
      "source": [
        "# h = np.array([1, 2, 3], dtype='f2')\n",
        "i = np.array([1, 2, 3], dtype='f')\n",
        "j = np.array([1, 2, 3], dtype='d')\n",
        "k = np.array([1, 2, 3], dtype='g')\n",
        "\n",
        "print(h.dtype, i.dtype, j.dtype, k.dtype)"
      ],
      "execution_count": 33,
      "outputs": [
        {
          "output_type": "stream",
          "name": "stdout",
          "text": [
            "float16 float32 float64 float128\n"
          ]
        }
      ]
    },
    {
      "cell_type": "code",
      "metadata": {
        "id": "shEeFHUUYF5I",
        "colab": {
          "base_uri": "https://localhost:8080/"
        },
        "outputId": "a306a91b-fa14-47c3-8618-3363777b0d01"
      },
      "source": [
        "i = i.astype(np.int32)\n",
        "print(i.dtype)"
      ],
      "execution_count": 34,
      "outputs": [
        {
          "output_type": "stream",
          "name": "stdout",
          "text": [
            "int32\n"
          ]
        }
      ]
    },
    {
      "cell_type": "code",
      "metadata": {
        "id": "G9pISDPSYsIg",
        "colab": {
          "base_uri": "https://localhost:8080/"
        },
        "outputId": "f826bb67-2f3a-499e-d178-61dbc513f224"
      },
      "source": [
        "j = j.astype(i.dtype)\n",
        "print(j.dtype)"
      ],
      "execution_count": 35,
      "outputs": [
        {
          "output_type": "stream",
          "name": "stdout",
          "text": [
            "int32\n"
          ]
        }
      ]
    },
    {
      "cell_type": "markdown",
      "metadata": {
        "id": "llB7zWtXZyL6"
      },
      "source": [
        "### 배열 indexing(색인)과 slicing(슬라이싱)\n",
        "\n"
      ]
    },
    {
      "cell_type": "markdown",
      "metadata": {
        "id": "wOQvW4eQbvwB"
      },
      "source": [
        "#### indexing, slicing 기본"
      ]
    },
    {
      "cell_type": "code",
      "metadata": {
        "id": "Q3uonHWyYtQQ",
        "colab": {
          "base_uri": "https://localhost:8080/"
        },
        "outputId": "73437706-e401-48a7-ced0-aa14dc73a059"
      },
      "source": [
        "a = np.arange(10)\n",
        "print(a)"
      ],
      "execution_count": 36,
      "outputs": [
        {
          "output_type": "stream",
          "name": "stdout",
          "text": [
            "[0 1 2 3 4 5 6 7 8 9]\n"
          ]
        }
      ]
    },
    {
      "cell_type": "code",
      "metadata": {
        "id": "sfqg_xKlW5i6",
        "colab": {
          "base_uri": "https://localhost:8080/"
        },
        "outputId": "643874d7-e04f-4c19-f514-044c506e9ac9"
      },
      "source": [
        "# indexing\n",
        "print(a[5])"
      ],
      "execution_count": 37,
      "outputs": [
        {
          "output_type": "stream",
          "name": "stdout",
          "text": [
            "5\n"
          ]
        }
      ]
    },
    {
      "cell_type": "code",
      "metadata": {
        "id": "4XqCLsBkW8wC",
        "colab": {
          "base_uri": "https://localhost:8080/"
        },
        "outputId": "93a0cc36-114d-4273-f916-6b4d843f507c"
      },
      "source": [
        "# slicing\n",
        "print(a[5:8])"
      ],
      "execution_count": 38,
      "outputs": [
        {
          "output_type": "stream",
          "name": "stdout",
          "text": [
            "[5 6 7]\n"
          ]
        }
      ]
    },
    {
      "cell_type": "code",
      "metadata": {
        "id": "gyz3nqnCY0t8",
        "colab": {
          "base_uri": "https://localhost:8080/"
        },
        "outputId": "9d6a989d-a2fa-48f3-c162-75f9164d6674"
      },
      "source": [
        "print(a[-1])"
      ],
      "execution_count": 39,
      "outputs": [
        {
          "output_type": "stream",
          "name": "stdout",
          "text": [
            "9\n"
          ]
        }
      ]
    },
    {
      "cell_type": "code",
      "metadata": {
        "id": "zbFK8JxTW-pj",
        "colab": {
          "base_uri": "https://localhost:8080/"
        },
        "outputId": "4a5d4d94-b63c-4c1a-c2d0-126d40426800"
      },
      "source": [
        "print(a[7:-1])"
      ],
      "execution_count": 40,
      "outputs": [
        {
          "output_type": "stream",
          "name": "stdout",
          "text": [
            "[7 8]\n"
          ]
        }
      ]
    },
    {
      "cell_type": "code",
      "metadata": {
        "id": "lWsJ9s7wXHGR",
        "colab": {
          "base_uri": "https://localhost:8080/"
        },
        "outputId": "4f6969ad-7f51-444b-b6f8-ce47ccd7e238"
      },
      "source": [
        "a[5:8] = 10\n",
        "print(a)"
      ],
      "execution_count": 41,
      "outputs": [
        {
          "output_type": "stream",
          "name": "stdout",
          "text": [
            "[ 0  1  2  3  4 10 10 10  8  9]\n"
          ]
        }
      ]
    },
    {
      "cell_type": "markdown",
      "metadata": {
        "id": "6EdXvAkKXXZN"
      },
      "source": [
        "#### indexing과 slicing의 차이\n",
        "indexing을 사용하면 항상 랭크가 감소합니다. 반면에 slicing을 사용하면 차원이 유지됩니다."
      ]
    },
    {
      "cell_type": "code",
      "metadata": {
        "id": "N7b-gazwXMq5",
        "colab": {
          "base_uri": "https://localhost:8080/"
        },
        "outputId": "b42268f2-6d4d-4b5b-e7fb-82179a60e0a8"
      },
      "source": [
        "b = np.arange(1, 13)\n",
        "# b = b.reshape(3, 4)\n",
        "print(b)\n",
        "print(b.shape)\n",
        "print(b.ndim)"
      ],
      "execution_count": 42,
      "outputs": [
        {
          "output_type": "stream",
          "name": "stdout",
          "text": [
            "[ 1  2  3  4  5  6  7  8  9 10 11 12]\n",
            "(12,)\n",
            "1\n"
          ]
        }
      ]
    },
    {
      "cell_type": "code",
      "metadata": {
        "id": "lcjUe4erXnF4",
        "colab": {
          "base_uri": "https://localhost:8080/"
        },
        "outputId": "7f79e927-c3ef-4969-fd31-448e53009285"
      },
      "source": [
        "indexing = b[1]\n",
        "slicing = b[1:2]\n",
        "print(indexing, indexing.shape, indexing.ndim)\n",
        "print(slicing, slicing.shape, slicing.ndim)"
      ],
      "execution_count": 43,
      "outputs": [
        {
          "output_type": "stream",
          "name": "stdout",
          "text": [
            "2 () 0\n",
            "[2] (1,) 1\n"
          ]
        }
      ]
    },
    {
      "cell_type": "markdown",
      "metadata": {
        "id": "zgem_w-8YS1f"
      },
      "source": [
        "이것은 indexing과 slicing을 함께 사용할 때도 마찬가지입니다. indexing의 개수만큼 랭크는 감소합니다."
      ]
    },
    {
      "cell_type": "code",
      "metadata": {
        "id": "8Jm49XAMX5ua",
        "colab": {
          "base_uri": "https://localhost:8080/"
        },
        "outputId": "a361d71f-9fc2-4f45-eacd-15ac87becbb4"
      },
      "source": [
        "b = b.reshape(3, 4)\n",
        "print(b)\n",
        "print(b.shape)\n",
        "print(b.ndim)"
      ],
      "execution_count": 44,
      "outputs": [
        {
          "output_type": "stream",
          "name": "stdout",
          "text": [
            "[[ 1  2  3  4]\n",
            " [ 5  6  7  8]\n",
            " [ 9 10 11 12]]\n",
            "(3, 4)\n",
            "2\n"
          ]
        }
      ]
    },
    {
      "cell_type": "code",
      "metadata": {
        "id": "47rIm6HlYgdp",
        "colab": {
          "base_uri": "https://localhost:8080/"
        },
        "outputId": "8e8ca448-529d-4e85-d91d-4ba889561638"
      },
      "source": [
        "row_r1 = b[1, :]\n",
        "row_r2 = b[1:2, :]\n",
        "print(row_r1, row_r1.shape, row_r1.ndim)\n",
        "print(row_r2, row_r2.shape, row_r2.ndim)"
      ],
      "execution_count": 45,
      "outputs": [
        {
          "output_type": "stream",
          "name": "stdout",
          "text": [
            "[5 6 7 8] (4,) 1\n",
            "[[5 6 7 8]] (1, 4) 2\n"
          ]
        }
      ]
    },
    {
      "cell_type": "markdown",
      "metadata": {
        "id": "nXii8xZ7a-vk"
      },
      "source": [
        "#### slicing examples"
      ]
    },
    {
      "cell_type": "code",
      "metadata": {
        "id": "B3jJVaXIYu7Y",
        "colab": {
          "base_uri": "https://localhost:8080/"
        },
        "outputId": "12d58601-d124-4607-db4d-875c52a04031"
      },
      "source": [
        "c = np.arange(24).reshape(2,3,4)\n",
        "print(c)\n",
        "print(c.shape)"
      ],
      "execution_count": 46,
      "outputs": [
        {
          "output_type": "stream",
          "name": "stdout",
          "text": [
            "[[[ 0  1  2  3]\n",
            "  [ 4  5  6  7]\n",
            "  [ 8  9 10 11]]\n",
            "\n",
            " [[12 13 14 15]\n",
            "  [16 17 18 19]\n",
            "  [20 21 22 23]]]\n",
            "(2, 3, 4)\n"
          ]
        }
      ]
    },
    {
      "cell_type": "code",
      "metadata": {
        "id": "gOFBAXxdZiO2",
        "colab": {
          "base_uri": "https://localhost:8080/"
        },
        "outputId": "18a2cc3d-6270-480b-fdec-1a30982b9489"
      },
      "source": [
        "print(c[:,:,:1])\n",
        "print(c[...,:1])"
      ],
      "execution_count": 47,
      "outputs": [
        {
          "output_type": "stream",
          "name": "stdout",
          "text": [
            "[[[ 0]\n",
            "  [ 4]\n",
            "  [ 8]]\n",
            "\n",
            " [[12]\n",
            "  [16]\n",
            "  [20]]]\n",
            "[[[ 0]\n",
            "  [ 4]\n",
            "  [ 8]]\n",
            "\n",
            " [[12]\n",
            "  [16]\n",
            "  [20]]]\n"
          ]
        }
      ]
    },
    {
      "cell_type": "code",
      "metadata": {
        "id": "1A4UeH8gbEYd",
        "colab": {
          "base_uri": "https://localhost:8080/"
        },
        "outputId": "e7355d3a-211f-452c-c920-3d31356e8cbf"
      },
      "source": [
        "print(c[0:1])\n",
        "print(c[0::-1])"
      ],
      "execution_count": 48,
      "outputs": [
        {
          "output_type": "stream",
          "name": "stdout",
          "text": [
            "[[[ 0  1  2  3]\n",
            "  [ 4  5  6  7]\n",
            "  [ 8  9 10 11]]]\n",
            "[[[ 0  1  2  3]\n",
            "  [ 4  5  6  7]\n",
            "  [ 8  9 10 11]]]\n"
          ]
        }
      ]
    },
    {
      "cell_type": "markdown",
      "metadata": {
        "id": "01DW6grybgcz"
      },
      "source": [
        "#### boolean indexing"
      ]
    },
    {
      "cell_type": "code",
      "metadata": {
        "id": "W92eQXCWbMK_",
        "colab": {
          "base_uri": "https://localhost:8080/"
        },
        "outputId": "9f3439c7-53b7-423c-da28-3ccfc2f82888"
      },
      "source": [
        "print(c)"
      ],
      "execution_count": 49,
      "outputs": [
        {
          "output_type": "stream",
          "name": "stdout",
          "text": [
            "[[[ 0  1  2  3]\n",
            "  [ 4  5  6  7]\n",
            "  [ 8  9 10 11]]\n",
            "\n",
            " [[12 13 14 15]\n",
            "  [16 17 18 19]\n",
            "  [20 21 22 23]]]\n"
          ]
        }
      ]
    },
    {
      "cell_type": "code",
      "metadata": {
        "id": "9hqw2RLXcFUM",
        "colab": {
          "base_uri": "https://localhost:8080/"
        },
        "outputId": "c5fb7c30-48e8-4bbd-88d6-1a29727be649"
      },
      "source": [
        "bool_idx = (c > 10)\n",
        "print(bool_idx)"
      ],
      "execution_count": 50,
      "outputs": [
        {
          "output_type": "stream",
          "name": "stdout",
          "text": [
            "[[[False False False False]\n",
            "  [False False False False]\n",
            "  [False False False  True]]\n",
            "\n",
            " [[ True  True  True  True]\n",
            "  [ True  True  True  True]\n",
            "  [ True  True  True  True]]]\n"
          ]
        }
      ]
    },
    {
      "cell_type": "code",
      "metadata": {
        "id": "vGjl3jKFcJcG",
        "colab": {
          "base_uri": "https://localhost:8080/"
        },
        "outputId": "b76e6518-5538-4fb0-f0d6-07952319bc2f"
      },
      "source": [
        "print(c[bool_idx])"
      ],
      "execution_count": 51,
      "outputs": [
        {
          "output_type": "stream",
          "name": "stdout",
          "text": [
            "[11 12 13 14 15 16 17 18 19 20 21 22 23]\n"
          ]
        }
      ]
    },
    {
      "cell_type": "code",
      "metadata": {
        "id": "BgGghXYQcMlO",
        "colab": {
          "base_uri": "https://localhost:8080/"
        },
        "outputId": "3591caf9-c5f7-4c0a-90ef-cbeffced3673"
      },
      "source": [
        "c[c>10] = -1\n",
        "print(c)"
      ],
      "execution_count": 52,
      "outputs": [
        {
          "output_type": "stream",
          "name": "stdout",
          "text": [
            "[[[ 0  1  2  3]\n",
            "  [ 4  5  6  7]\n",
            "  [ 8  9 10 -1]]\n",
            "\n",
            " [[-1 -1 -1 -1]\n",
            "  [-1 -1 -1 -1]\n",
            "  [-1 -1 -1 -1]]]\n"
          ]
        }
      ]
    },
    {
      "cell_type": "markdown",
      "metadata": {
        "id": "bmvORV2OdSMJ"
      },
      "source": [
        "#### fancy indexing"
      ]
    },
    {
      "cell_type": "code",
      "metadata": {
        "id": "dCQrOklRcsu-",
        "colab": {
          "base_uri": "https://localhost:8080/"
        },
        "outputId": "03abb0ef-e056-44af-cbf0-4714cf58bc24"
      },
      "source": [
        "d = np.arange(8).reshape(8,-1)\n",
        "print(d, d.shape)"
      ],
      "execution_count": 53,
      "outputs": [
        {
          "output_type": "stream",
          "name": "stdout",
          "text": [
            "[[0]\n",
            " [1]\n",
            " [2]\n",
            " [3]\n",
            " [4]\n",
            " [5]\n",
            " [6]\n",
            " [7]] (8, 1)\n"
          ]
        }
      ]
    },
    {
      "cell_type": "code",
      "metadata": {
        "id": "5mEK0MeJf3-a",
        "colab": {
          "base_uri": "https://localhost:8080/"
        },
        "outputId": "0a532e98-b058-417c-b691-e66e84218b26"
      },
      "source": [
        "d = np.hstack((d, d, d, d))\n",
        "print(d, d.shape)"
      ],
      "execution_count": 54,
      "outputs": [
        {
          "output_type": "stream",
          "name": "stdout",
          "text": [
            "[[0 0 0 0]\n",
            " [1 1 1 1]\n",
            " [2 2 2 2]\n",
            " [3 3 3 3]\n",
            " [4 4 4 4]\n",
            " [5 5 5 5]\n",
            " [6 6 6 6]\n",
            " [7 7 7 7]] (8, 4)\n"
          ]
        }
      ]
    },
    {
      "cell_type": "code",
      "metadata": {
        "id": "SlU7e3UagBZr",
        "colab": {
          "base_uri": "https://localhost:8080/"
        },
        "outputId": "9c8c4849-5643-4b2b-be14-2d414b86ed49"
      },
      "source": [
        "print(d[[3, 5, 1, 0]])"
      ],
      "execution_count": 55,
      "outputs": [
        {
          "output_type": "stream",
          "name": "stdout",
          "text": [
            "[[3 3 3 3]\n",
            " [5 5 5 5]\n",
            " [1 1 1 1]\n",
            " [0 0 0 0]]\n"
          ]
        }
      ]
    },
    {
      "cell_type": "code",
      "metadata": {
        "id": "X-gaGp9BgIY7",
        "colab": {
          "base_uri": "https://localhost:8080/"
        },
        "outputId": "00d2c9cc-380d-42ac-ad85-59aece8686a3"
      },
      "source": [
        "print(d[[-3, -5, -7]])"
      ],
      "execution_count": 56,
      "outputs": [
        {
          "output_type": "stream",
          "name": "stdout",
          "text": [
            "[[5 5 5 5]\n",
            " [3 3 3 3]\n",
            " [1 1 1 1]]\n"
          ]
        }
      ]
    },
    {
      "cell_type": "code",
      "metadata": {
        "id": "9g6WshuLgaD7",
        "colab": {
          "base_uri": "https://localhost:8080/"
        },
        "outputId": "d8af46ce-ddaa-4cc0-e514-9bc6fa89058e"
      },
      "source": [
        "e = np.arange(32).reshape(8,4)\n",
        "print(e, e.shape)"
      ],
      "execution_count": 57,
      "outputs": [
        {
          "output_type": "stream",
          "name": "stdout",
          "text": [
            "[[ 0  1  2  3]\n",
            " [ 4  5  6  7]\n",
            " [ 8  9 10 11]\n",
            " [12 13 14 15]\n",
            " [16 17 18 19]\n",
            " [20 21 22 23]\n",
            " [24 25 26 27]\n",
            " [28 29 30 31]] (8, 4)\n"
          ]
        }
      ]
    },
    {
      "cell_type": "code",
      "metadata": {
        "id": "zN6fsJdngeO7",
        "colab": {
          "base_uri": "https://localhost:8080/"
        },
        "outputId": "c718ffae-8a10-43d8-8253-55bdc8f51d96"
      },
      "source": [
        "print(e[[1,5,7,2], [0,3,1,2]])"
      ],
      "execution_count": 58,
      "outputs": [
        {
          "output_type": "stream",
          "name": "stdout",
          "text": [
            "[ 4 23 29 10]\n"
          ]
        }
      ]
    },
    {
      "cell_type": "code",
      "metadata": {
        "id": "h5GBqi-Kgwgj",
        "colab": {
          "base_uri": "https://localhost:8080/"
        },
        "outputId": "d63116d7-3414-46e6-cf7b-e9d027e00af3"
      },
      "source": [
        "print(e[[1,5,7,2]][:, [0,3,1,2]])"
      ],
      "execution_count": 59,
      "outputs": [
        {
          "output_type": "stream",
          "name": "stdout",
          "text": [
            "[[ 4  7  5  6]\n",
            " [20 23 21 22]\n",
            " [28 31 29 30]\n",
            " [ 8 11  9 10]]\n"
          ]
        }
      ]
    },
    {
      "cell_type": "markdown",
      "metadata": {
        "id": "jG0z0lDdiAaP"
      },
      "source": [
        "### Transpose"
      ]
    },
    {
      "cell_type": "code",
      "metadata": {
        "id": "cpdKdNZ4g-Iq",
        "colab": {
          "base_uri": "https://localhost:8080/"
        },
        "outputId": "d25e396e-b2b5-4cf7-dbe7-04d8f539418d"
      },
      "source": [
        "f = np.arange(16).reshape(2,2,4)\n",
        "print(f, f.shape)"
      ],
      "execution_count": 60,
      "outputs": [
        {
          "output_type": "stream",
          "name": "stdout",
          "text": [
            "[[[ 0  1  2  3]\n",
            "  [ 4  5  6  7]]\n",
            "\n",
            " [[ 8  9 10 11]\n",
            "  [12 13 14 15]]] (2, 2, 4)\n"
          ]
        }
      ]
    },
    {
      "cell_type": "code",
      "metadata": {
        "id": "Nd4Re5tXiFhK",
        "colab": {
          "base_uri": "https://localhost:8080/"
        },
        "outputId": "e2adb755-ddd6-421f-ce3b-93a50ea8b86e"
      },
      "source": [
        "print(f.transpose(1, 0, 2))"
      ],
      "execution_count": 61,
      "outputs": [
        {
          "output_type": "stream",
          "name": "stdout",
          "text": [
            "[[[ 0  1  2  3]\n",
            "  [ 8  9 10 11]]\n",
            "\n",
            " [[ 4  5  6  7]\n",
            "  [12 13 14 15]]]\n"
          ]
        }
      ]
    },
    {
      "cell_type": "code",
      "metadata": {
        "id": "LibPPlNsiIw6",
        "colab": {
          "base_uri": "https://localhost:8080/"
        },
        "outputId": "f3705052-4d7d-400b-cf93-d2690460a2a4"
      },
      "source": [
        "print(f.swapaxes(0, 1))"
      ],
      "execution_count": 62,
      "outputs": [
        {
          "output_type": "stream",
          "name": "stdout",
          "text": [
            "[[[ 0  1  2  3]\n",
            "  [ 8  9 10 11]]\n",
            "\n",
            " [[ 4  5  6  7]\n",
            "  [12 13 14 15]]]\n"
          ]
        }
      ]
    },
    {
      "cell_type": "markdown",
      "metadata": {
        "id": "pZCOq6PDiV5e"
      },
      "source": [
        "### Numpy 연산"
      ]
    },
    {
      "cell_type": "code",
      "metadata": {
        "id": "t-9-Vc3EiK9S",
        "colab": {
          "base_uri": "https://localhost:8080/"
        },
        "outputId": "211c351f-a629-4ac6-a662-b9ab7aaa3fea"
      },
      "source": [
        "x = np.array([[1,2], [3,4]], dtype=np.float64)\n",
        "y = np.array([[5,6], [7,8]], dtype=np.float64)\n",
        "print(x)\n",
        "print(y)"
      ],
      "execution_count": 63,
      "outputs": [
        {
          "output_type": "stream",
          "name": "stdout",
          "text": [
            "[[1. 2.]\n",
            " [3. 4.]]\n",
            "[[5. 6.]\n",
            " [7. 8.]]\n"
          ]
        }
      ]
    },
    {
      "cell_type": "code",
      "metadata": {
        "id": "6UvWrq01jNh3",
        "colab": {
          "base_uri": "https://localhost:8080/"
        },
        "outputId": "3e2ad071-2ce8-4189-a6d8-a3e144e0b351"
      },
      "source": [
        "print(x + y)\n",
        "print(np.add(x, y))"
      ],
      "execution_count": 64,
      "outputs": [
        {
          "output_type": "stream",
          "name": "stdout",
          "text": [
            "[[ 6.  8.]\n",
            " [10. 12.]]\n",
            "[[ 6.  8.]\n",
            " [10. 12.]]\n"
          ]
        }
      ]
    },
    {
      "cell_type": "code",
      "metadata": {
        "id": "2ZsrTfcJjTnZ",
        "colab": {
          "base_uri": "https://localhost:8080/"
        },
        "outputId": "d6700aa0-5512-4b5f-b1d5-29a8a1c43bdb"
      },
      "source": [
        "print(x - y)\n",
        "print(np.subtract(x, y))"
      ],
      "execution_count": 65,
      "outputs": [
        {
          "output_type": "stream",
          "name": "stdout",
          "text": [
            "[[-4. -4.]\n",
            " [-4. -4.]]\n",
            "[[-4. -4.]\n",
            " [-4. -4.]]\n"
          ]
        }
      ]
    },
    {
      "cell_type": "code",
      "metadata": {
        "id": "5kdMnErqjYUB",
        "colab": {
          "base_uri": "https://localhost:8080/"
        },
        "outputId": "d08069f2-6dae-43b4-b5bb-063230c2f2ee"
      },
      "source": [
        "print(x * y)\n",
        "print(np.multiply(x, y))"
      ],
      "execution_count": 66,
      "outputs": [
        {
          "output_type": "stream",
          "name": "stdout",
          "text": [
            "[[ 5. 12.]\n",
            " [21. 32.]]\n",
            "[[ 5. 12.]\n",
            " [21. 32.]]\n"
          ]
        }
      ]
    },
    {
      "cell_type": "code",
      "metadata": {
        "id": "mxYueDx6jcuJ",
        "colab": {
          "base_uri": "https://localhost:8080/"
        },
        "outputId": "2c954485-8641-43d5-afcb-40c30223ab69"
      },
      "source": [
        "print(x / y)\n",
        "print(np.divide(x, y))"
      ],
      "execution_count": 67,
      "outputs": [
        {
          "output_type": "stream",
          "name": "stdout",
          "text": [
            "[[0.2        0.33333333]\n",
            " [0.42857143 0.5       ]]\n",
            "[[0.2        0.33333333]\n",
            " [0.42857143 0.5       ]]\n"
          ]
        }
      ]
    },
    {
      "cell_type": "code",
      "metadata": {
        "id": "aNbeKWm3jfUh",
        "colab": {
          "base_uri": "https://localhost:8080/"
        },
        "outputId": "fc234752-a415-4604-fafb-f08e2953dc55"
      },
      "source": [
        "print(x @ y)\n",
        "print(np.matmul(x, y))"
      ],
      "execution_count": 68,
      "outputs": [
        {
          "output_type": "stream",
          "name": "stdout",
          "text": [
            "[[19. 22.]\n",
            " [43. 50.]]\n",
            "[[19. 22.]\n",
            " [43. 50.]]\n"
          ]
        }
      ]
    },
    {
      "cell_type": "code",
      "metadata": {
        "id": "8mF8SzhJjib5",
        "colab": {
          "base_uri": "https://localhost:8080/"
        },
        "outputId": "0f991f44-9a79-4c4b-b1d5-acc3b83e204a"
      },
      "source": [
        "z = np.arange(1, 11).reshape(2, 5)\n",
        "print(z)"
      ],
      "execution_count": 69,
      "outputs": [
        {
          "output_type": "stream",
          "name": "stdout",
          "text": [
            "[[ 1  2  3  4  5]\n",
            " [ 6  7  8  9 10]]\n"
          ]
        }
      ]
    },
    {
      "cell_type": "code",
      "metadata": {
        "id": "5l3gfvRgj9Dp",
        "colab": {
          "base_uri": "https://localhost:8080/"
        },
        "outputId": "e6b07b19-fd8e-4159-c949-e9d972aa046f"
      },
      "source": [
        "print(np.sum(z))"
      ],
      "execution_count": 70,
      "outputs": [
        {
          "output_type": "stream",
          "name": "stdout",
          "text": [
            "55\n"
          ]
        }
      ]
    },
    {
      "cell_type": "code",
      "metadata": {
        "id": "8HI9rCNrj_bB",
        "colab": {
          "base_uri": "https://localhost:8080/"
        },
        "outputId": "e26eb312-a0d6-43fb-d3b6-e31f7577296a"
      },
      "source": [
        "sum1 = np.sum(z, axis=0)\n",
        "sum2 = np.sum(z, axis=1)\n",
        "sum3 = np.sum(z, axis=-1)\n",
        "print(sum1, sum1.shape)\n",
        "print(sum2, sum2.shape)\n",
        "print(sum3, sum3.shape)"
      ],
      "execution_count": 71,
      "outputs": [
        {
          "output_type": "stream",
          "name": "stdout",
          "text": [
            "[ 7  9 11 13 15] (5,)\n",
            "[15 40] (2,)\n",
            "[15 40] (2,)\n"
          ]
        }
      ]
    },
    {
      "cell_type": "markdown",
      "metadata": {
        "id": "RTiUAKLUkPQv"
      },
      "source": [
        "여기서 축(axis)은 각 배열의 차원에 해당되는 index 입니다.\n",
        "\n",
        "axis=0에 대하여 sum을 하라는 것은 0번 축 혹은 차원이 없어지는 방향으로 원소들을 모두 더하라는 얘기입니다.\n",
        "\n",
        "즉, 위 예에서 sum1의 경우, z[0,:]+z[1,:]의 연산을 하라는 의미이고,\n",
        "\n",
        "sum2의 경우에는 z[:,0]+z[:,1]+z[:,2]+z[:,3]+z[:,4]의 연산을 하라는 의미입니다."
      ]
    },
    {
      "cell_type": "code",
      "metadata": {
        "id": "S6PvVtr8kDJY",
        "colab": {
          "base_uri": "https://localhost:8080/"
        },
        "outputId": "c08f7721-6441-412e-88bd-d0d49c4f1231"
      },
      "source": [
        "print(z[0,:] + z[1,:])"
      ],
      "execution_count": 72,
      "outputs": [
        {
          "output_type": "stream",
          "name": "stdout",
          "text": [
            "[ 7  9 11 13 15]\n"
          ]
        }
      ]
    },
    {
      "cell_type": "code",
      "metadata": {
        "id": "QsHzk7AFlhed",
        "colab": {
          "base_uri": "https://localhost:8080/"
        },
        "outputId": "6472ea55-6391-4b60-e926-49c69abc92a9"
      },
      "source": [
        "print(z[:,0] + z[:,1] + z[:,2] + z[:,3] + z[:,4])"
      ],
      "execution_count": 73,
      "outputs": [
        {
          "output_type": "stream",
          "name": "stdout",
          "text": [
            "[15 40]\n"
          ]
        }
      ]
    },
    {
      "cell_type": "markdown",
      "metadata": {
        "id": "9ClMgTUwmCUt"
      },
      "source": [
        "### Broadcasting\n",
        "\n",
        "Broadcasting은 numpy가 산술 연산을 수행 할 때 다른 모양의 배열로 작업 할 수있게 해주는 강력한 메커니즘입니다. 종종 더 작은 배열과 더 큰 배열이 있을 때 더 작은 배열을 여러 번 사용하여 더 큰 배열에서 어떤 연산을 수행하기를 원할 때가 있습니다.\n",
        "\n",
        "예를 들어, 행렬의 각 행에 상수 벡터를 추가하려 한다고 가정합시다. numpy에서는 다음과 같이 할 수 있습니다."
      ]
    },
    {
      "cell_type": "code",
      "metadata": {
        "id": "nGIMd2pjlnY_"
      },
      "source": [
        "x = np.array([[1,2,3], [4,5,6], [7,8,9], [10,11,12]])\n",
        "y = np.array([1,0,2])"
      ],
      "execution_count": 74,
      "outputs": []
    },
    {
      "cell_type": "code",
      "metadata": {
        "id": "UgSTqLHpmZH3",
        "colab": {
          "base_uri": "https://localhost:8080/"
        },
        "outputId": "c0ad105c-dac5-4625-acb3-fc1ce87f8e2a"
      },
      "source": [
        "print(x, x.shape)\n",
        "print(y, y.shape)"
      ],
      "execution_count": 75,
      "outputs": [
        {
          "output_type": "stream",
          "name": "stdout",
          "text": [
            "[[ 1  2  3]\n",
            " [ 4  5  6]\n",
            " [ 7  8  9]\n",
            " [10 11 12]] (4, 3)\n",
            "[1 0 2] (3,)\n"
          ]
        }
      ]
    },
    {
      "cell_type": "code",
      "metadata": {
        "id": "oCmF2ZEomeL_",
        "colab": {
          "base_uri": "https://localhost:8080/"
        },
        "outputId": "ab393395-9e78-4528-b761-adcc7d9a5615"
      },
      "source": [
        "z = x + y\n",
        "print(z, z.shape)"
      ],
      "execution_count": 76,
      "outputs": [
        {
          "output_type": "stream",
          "name": "stdout",
          "text": [
            "[[ 2  2  5]\n",
            " [ 5  5  8]\n",
            " [ 8  8 11]\n",
            " [11 11 14]] (4, 3)\n"
          ]
        }
      ]
    },
    {
      "cell_type": "markdown",
      "metadata": {
        "id": "truyZgyTm8_7"
      },
      "source": [
        "z = x + y 는 broadcasting으로 인해 x가 shape (4, 3)이고 y가 shape (3)인데도 작동합니다. 이 행은 y가 실제로 shape (4, 3)인 것처럼 작동합니다. 각 행은 y의 사본이었고, 합계는 요소별로 수행되었습니다.\n",
        "\n",
        "두 개의 배열을 브로드캐스팅하는 것은 다음 규칙을 따릅니다.\n",
        "\n",
        "1. 배열의 랭크가 같지 않으면 두 모양이 같은 길이가 될 때까지 배열의 낮은 랭크쪽에 1을 붙입니다.\n",
        "2. 두 배열은 차원에서 크기가 같거나 배열 중 하나의 차원에 크기가 1 인 경우 차원에서 호환 가능하다고 합니다.\n",
        "3. 배열은 모든 차원에서 호환되면 함께 broadcast 될 수 있습니다.\n",
        "4. Broadcast 후 각 배열은 두 개의 입력 배열의 요소 모양 최대 개수와 동일한 모양을 가진 것처럼 동작합니다.\n",
        "5. 한 배열의 크기가 1이고 다른 배열의 크기가 1보다 큰 차원에서 첫 번째 배열은 마치 해당 차원을 따라 복사 된 것처럼 작동합니다\n",
        "\n",
        "실제로 동작하는 방식을 생각해 봅시다.\n",
        "\n",
        "1. A와 B의 모양을 생각합니다.\n",
        "2. 두 배열이 len(A.shape) == len(B.shape)인지 확인을 합니다.\n",
        "3. 같지 않은 경우에는 두 배열의 모양 길이가 같아질때까지 적은 쪽의 shape 앞에 1 을 추가해 줍니다.\n",
        "- 예: (5,3)–>(1,5,3)\n",
        "4. shape이 1인 곳은 복사가 됩니다.\n",
        "- 예: shape의 변화는 아래와 같게 될겁니다.\n",
        "- (5, 3)+(3,)\n",
        "- (5, 3)+(1, 3)\n",
        "- (5, 3) + (5, 3)\n",
        "- (5, 3)\n",
        "\n",
        "이 설명이 이해가되지 않으면 문서 또는 이 설명을 읽으십시오.\n",
        "\n",
        "https://docs.scipy.org/doc/numpy/user/basics.broadcasting.html\n",
        "\n",
        "http://scipy.github.io/old-wiki/pages/EricsBroadcastingDoc\n",
        "\n",
        "Broadcasting을 지원하는 함수들을 보편 함수라고합니다. 이 문서에서 모든 보편 함수 목록을 찾을 수 있습니다.\n",
        "https://docs.scipy.org/doc/numpy/reference/ufuncs.html#available-ufuncs\n"
      ]
    },
    {
      "cell_type": "code",
      "metadata": {
        "id": "tzv4ErwlmhgH",
        "colab": {
          "base_uri": "https://localhost:8080/"
        },
        "outputId": "9917ddf8-b32c-4b5f-ec48-d015681a8728"
      },
      "source": [
        "x = np.array([1,2,3]).reshape(1,3)\n",
        "y = np.array([4,5]).reshape(1,2)\n",
        "print(x, x.shape)\n",
        "print(y, y.shape)"
      ],
      "execution_count": 77,
      "outputs": [
        {
          "output_type": "stream",
          "name": "stdout",
          "text": [
            "[[1 2 3]] (1, 3)\n",
            "[[4 5]] (1, 2)\n"
          ]
        }
      ]
    },
    {
      "cell_type": "code",
      "metadata": {
        "id": "xEcJFtOyn6J2",
        "colab": {
          "base_uri": "https://localhost:8080/",
          "height": 194
        },
        "outputId": "d9ab6762-a5b5-48b6-9a37-640981add1cc"
      },
      "source": [
        "# broadcasting 조건에 맞지 않음\n",
        "print(x + y)"
      ],
      "execution_count": 78,
      "outputs": [
        {
          "output_type": "error",
          "ename": "ValueError",
          "evalue": "ignored",
          "traceback": [
            "\u001b[0;31m---------------------------------------------------------------------------\u001b[0m",
            "\u001b[0;31mValueError\u001b[0m                                Traceback (most recent call last)",
            "\u001b[0;32m<ipython-input-78-a56b087de706>\u001b[0m in \u001b[0;36m<module>\u001b[0;34m\u001b[0m\n\u001b[1;32m      1\u001b[0m \u001b[0;31m# broadcasting 조건에 맞지 않음\u001b[0m\u001b[0;34m\u001b[0m\u001b[0;34m\u001b[0m\u001b[0;34m\u001b[0m\u001b[0m\n\u001b[0;32m----> 2\u001b[0;31m \u001b[0mprint\u001b[0m\u001b[0;34m(\u001b[0m\u001b[0mx\u001b[0m \u001b[0;34m+\u001b[0m \u001b[0my\u001b[0m\u001b[0;34m)\u001b[0m\u001b[0;34m\u001b[0m\u001b[0;34m\u001b[0m\u001b[0m\n\u001b[0m",
            "\u001b[0;31mValueError\u001b[0m: operands could not be broadcast together with shapes (1,3) (1,2) "
          ]
        }
      ]
    },
    {
      "cell_type": "code",
      "metadata": {
        "id": "Ho5FjodPn7rW",
        "colab": {
          "base_uri": "https://localhost:8080/"
        },
        "outputId": "1bd348b0-70e7-4c29-c3bc-a27a6cc915e4"
      },
      "source": [
        "y = y.swapaxes(0, 1)\n",
        "print(y, y.shape)"
      ],
      "execution_count": 79,
      "outputs": [
        {
          "output_type": "stream",
          "name": "stdout",
          "text": [
            "[[4]\n",
            " [5]] (2, 1)\n"
          ]
        }
      ]
    },
    {
      "cell_type": "code",
      "metadata": {
        "id": "6yH754VZoDqe",
        "colab": {
          "base_uri": "https://localhost:8080/"
        },
        "outputId": "06a586e9-f50b-451e-b346-08deeb3b6058"
      },
      "source": [
        "# broadcasting 발생\n",
        "print(x + y)"
      ],
      "execution_count": 80,
      "outputs": [
        {
          "output_type": "stream",
          "name": "stdout",
          "text": [
            "[[5 6 7]\n",
            " [6 7 8]]\n"
          ]
        }
      ]
    },
    {
      "cell_type": "markdown",
      "metadata": {
        "id": "Hsy7GB7moOqU"
      },
      "source": [
        "### Shape 변경"
      ]
    },
    {
      "cell_type": "code",
      "metadata": {
        "id": "QTJ9ljZdoFMu",
        "colab": {
          "base_uri": "https://localhost:8080/"
        },
        "outputId": "8a782443-08f6-4290-c963-2510f7351a5f"
      },
      "source": [
        "a = np.arange(24).reshape(2,3,4)\n",
        "print(a, a.shape)"
      ],
      "execution_count": 81,
      "outputs": [
        {
          "output_type": "stream",
          "name": "stdout",
          "text": [
            "[[[ 0  1  2  3]\n",
            "  [ 4  5  6  7]\n",
            "  [ 8  9 10 11]]\n",
            "\n",
            " [[12 13 14 15]\n",
            "  [16 17 18 19]\n",
            "  [20 21 22 23]]] (2, 3, 4)\n"
          ]
        }
      ]
    },
    {
      "cell_type": "code",
      "metadata": {
        "id": "Uhv1BBmuoZuO",
        "colab": {
          "base_uri": "https://localhost:8080/"
        },
        "outputId": "dced4ec9-5210-4cf0-a924-38af503c0a04"
      },
      "source": [
        "a = a.reshape(4, -1)\n",
        "print(a, a.shape)"
      ],
      "execution_count": 82,
      "outputs": [
        {
          "output_type": "stream",
          "name": "stdout",
          "text": [
            "[[ 0  1  2  3  4  5]\n",
            " [ 6  7  8  9 10 11]\n",
            " [12 13 14 15 16 17]\n",
            " [18 19 20 21 22 23]] (4, 6)\n"
          ]
        }
      ]
    },
    {
      "cell_type": "code",
      "metadata": {
        "id": "wyv3HPZjoexG",
        "colab": {
          "base_uri": "https://localhost:8080/"
        },
        "outputId": "e31ae8f3-705e-4a52-99b6-05346281bf05"
      },
      "source": [
        "a = a[..., np.newaxis]\n",
        "print(a, a.shape)"
      ],
      "execution_count": 83,
      "outputs": [
        {
          "output_type": "stream",
          "name": "stdout",
          "text": [
            "[[[ 0]\n",
            "  [ 1]\n",
            "  [ 2]\n",
            "  [ 3]\n",
            "  [ 4]\n",
            "  [ 5]]\n",
            "\n",
            " [[ 6]\n",
            "  [ 7]\n",
            "  [ 8]\n",
            "  [ 9]\n",
            "  [10]\n",
            "  [11]]\n",
            "\n",
            " [[12]\n",
            "  [13]\n",
            "  [14]\n",
            "  [15]\n",
            "  [16]\n",
            "  [17]]\n",
            "\n",
            " [[18]\n",
            "  [19]\n",
            "  [20]\n",
            "  [21]\n",
            "  [22]\n",
            "  [23]]] (4, 6, 1)\n"
          ]
        }
      ]
    },
    {
      "cell_type": "code",
      "metadata": {
        "id": "jQ1jTx3yond-",
        "colab": {
          "base_uri": "https://localhost:8080/"
        },
        "outputId": "f98e9d90-7ac4-4a63-cb61-6168dce1017f"
      },
      "source": [
        "a = a.reshape(4, 6)\n",
        "a = np.expand_dims(a, axis=0)\n",
        "print(a, a.shape)"
      ],
      "execution_count": 84,
      "outputs": [
        {
          "output_type": "stream",
          "name": "stdout",
          "text": [
            "[[[ 0  1  2  3  4  5]\n",
            "  [ 6  7  8  9 10 11]\n",
            "  [12 13 14 15 16 17]\n",
            "  [18 19 20 21 22 23]]] (1, 4, 6)\n"
          ]
        }
      ]
    },
    {
      "cell_type": "code",
      "metadata": {
        "id": "-5pQWo_FoyZu",
        "colab": {
          "base_uri": "https://localhost:8080/"
        },
        "outputId": "86623e44-737b-4033-b34e-14ead5c67f64"
      },
      "source": [
        "b = a.copy()\n",
        "print(b, b.shape)"
      ],
      "execution_count": 85,
      "outputs": [
        {
          "output_type": "stream",
          "name": "stdout",
          "text": [
            "[[[ 0  1  2  3  4  5]\n",
            "  [ 6  7  8  9 10 11]\n",
            "  [12 13 14 15 16 17]\n",
            "  [18 19 20 21 22 23]]] (1, 4, 6)\n"
          ]
        }
      ]
    },
    {
      "cell_type": "code",
      "metadata": {
        "id": "fwaEn29To4VW",
        "colab": {
          "base_uri": "https://localhost:8080/"
        },
        "outputId": "27307308-af55-433b-a27a-8ab5f20d2be4"
      },
      "source": [
        "c = np.concatenate((a, b), axis=-1)\n",
        "print(c, c.shape)"
      ],
      "execution_count": 86,
      "outputs": [
        {
          "output_type": "stream",
          "name": "stdout",
          "text": [
            "[[[ 0  1  2  3  4  5  0  1  2  3  4  5]\n",
            "  [ 6  7  8  9 10 11  6  7  8  9 10 11]\n",
            "  [12 13 14 15 16 17 12 13 14 15 16 17]\n",
            "  [18 19 20 21 22 23 18 19 20 21 22 23]]] (1, 4, 12)\n"
          ]
        }
      ]
    },
    {
      "cell_type": "code",
      "metadata": {
        "id": "22ZnBHtZo90m",
        "colab": {
          "base_uri": "https://localhost:8080/"
        },
        "outputId": "00da9318-76ba-40a5-f931-12b2d15b0d3a"
      },
      "source": [
        "c = np.concatenate((a, b), axis=0)\n",
        "print(c, c.shape)"
      ],
      "execution_count": 87,
      "outputs": [
        {
          "output_type": "stream",
          "name": "stdout",
          "text": [
            "[[[ 0  1  2  3  4  5]\n",
            "  [ 6  7  8  9 10 11]\n",
            "  [12 13 14 15 16 17]\n",
            "  [18 19 20 21 22 23]]\n",
            "\n",
            " [[ 0  1  2  3  4  5]\n",
            "  [ 6  7  8  9 10 11]\n",
            "  [12 13 14 15 16 17]\n",
            "  [18 19 20 21 22 23]]] (2, 4, 6)\n"
          ]
        }
      ]
    },
    {
      "cell_type": "code",
      "metadata": {
        "id": "QmL0JoQzpWer",
        "colab": {
          "base_uri": "https://localhost:8080/"
        },
        "outputId": "95c5b780-aa1f-4d45-ecc4-03d27d9738cf"
      },
      "source": [
        "d = np.stack((a, b), axis=-1)\n",
        "print(d, d.shape)"
      ],
      "execution_count": 88,
      "outputs": [
        {
          "output_type": "stream",
          "name": "stdout",
          "text": [
            "[[[[ 0  0]\n",
            "   [ 1  1]\n",
            "   [ 2  2]\n",
            "   [ 3  3]\n",
            "   [ 4  4]\n",
            "   [ 5  5]]\n",
            "\n",
            "  [[ 6  6]\n",
            "   [ 7  7]\n",
            "   [ 8  8]\n",
            "   [ 9  9]\n",
            "   [10 10]\n",
            "   [11 11]]\n",
            "\n",
            "  [[12 12]\n",
            "   [13 13]\n",
            "   [14 14]\n",
            "   [15 15]\n",
            "   [16 16]\n",
            "   [17 17]]\n",
            "\n",
            "  [[18 18]\n",
            "   [19 19]\n",
            "   [20 20]\n",
            "   [21 21]\n",
            "   [22 22]\n",
            "   [23 23]]]] (1, 4, 6, 2)\n"
          ]
        }
      ]
    },
    {
      "cell_type": "code",
      "metadata": {
        "id": "xwo8TUyIpCqW",
        "colab": {
          "base_uri": "https://localhost:8080/"
        },
        "outputId": "3ad88391-d566-4160-93f1-026a45b0294b"
      },
      "source": [
        "d = np.stack((a, b), axis=0)\n",
        "print(d, d.shape)"
      ],
      "execution_count": 89,
      "outputs": [
        {
          "output_type": "stream",
          "name": "stdout",
          "text": [
            "[[[[ 0  1  2  3  4  5]\n",
            "   [ 6  7  8  9 10 11]\n",
            "   [12 13 14 15 16 17]\n",
            "   [18 19 20 21 22 23]]]\n",
            "\n",
            "\n",
            " [[[ 0  1  2  3  4  5]\n",
            "   [ 6  7  8  9 10 11]\n",
            "   [12 13 14 15 16 17]\n",
            "   [18 19 20 21 22 23]]]] (2, 1, 4, 6)\n"
          ]
        }
      ]
    },
    {
      "cell_type": "code",
      "metadata": {
        "id": "xLS8zMLApi-U"
      },
      "source": [],
      "execution_count": null,
      "outputs": []
    }
  ]
}